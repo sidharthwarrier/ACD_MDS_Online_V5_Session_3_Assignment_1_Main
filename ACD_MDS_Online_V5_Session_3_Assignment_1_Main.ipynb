{
 "cells": [
  {
   "cell_type": "markdown",
   "metadata": {},
   "source": [
    "# Session 3 Assignment 1"
   ]
  },
  {
   "cell_type": "markdown",
   "metadata": {},
   "source": [
    "1.1 Write a Python Program to implement your own myreduce() function which works exactly\n",
    "like Python's built-in function reduce()"
   ]
  },
  {
   "cell_type": "code",
   "execution_count": 18,
   "metadata": {},
   "outputs": [
    {
     "name": "stdout",
     "output_type": "stream",
     "text": [
      "Enter the values for string or stop to exit: 1\n",
      "Enter the values for string or stop to exit: 1\n",
      "Enter the values for string or stop to exit: 1\n",
      "Enter the values for string or stop to exit: 1\n",
      "Enter the values for string or stop to exit: 1\n",
      "Enter the values for string or stop to exit: 1\n",
      "Enter the values for string or stop to exit: 1\n",
      "Enter the values for string or stop to exit: stop\n",
      "Sum of given elements is : 7 \n"
     ]
    }
   ],
   "source": [
    "#define myreduce function\n",
    "def myreduce(function,inplist):\n",
    "    result=0\n",
    "    if (function=='sum'):\n",
    "        for i in inplist:\n",
    "            result=result+i\n",
    "    return result\n",
    "#initialise list       \n",
    "list_values=[]  \n",
    "#Get input from user \n",
    "while True:\n",
    "    input_value = input(\"Enter the values for list or stop to exit: \" )\n",
    "    if (input_value == 'STOP' or input_value =='stop'):\n",
    "        break\n",
    "    list_values.append(int(input_value))\n",
    "#call myreduce function\n",
    "final_result=myreduce('sum',list_values)\n",
    "#print output\n",
    "print(\"Sum of given elements is : {} \".format(final_result))\n",
    "    \n",
    "    \n",
    "\n",
    "            \n",
    "    "
   ]
  },
  {
   "cell_type": "code",
   "execution_count": 3,
   "metadata": {},
   "outputs": [
    {
     "name": "stdout",
     "output_type": "stream",
     "text": [
      "Enter the values for list or stop to exit: 1\n",
      "Enter the values for list or stop to exit: 6\n",
      "Enter the values for list or stop to exit: 3\n",
      "Enter the values for list or stop to exit: 9\n",
      "Enter the values for list or stop to exit: 7\n",
      "Enter the values for list or stop to exit: 8\n",
      "Enter the values for list or stop to exit: stop\n",
      "Filtered elements are : [6, 3, 9] \n"
     ]
    }
   ],
   "source": [
    "#Define myfilter function\n",
    "def myfilter(function,inplist):\n",
    "    result=[]\n",
    "    if(function=='mod'):\n",
    "        for i in inplist:\n",
    "            if (i % 3 == 0):\n",
    "                result.append(i)\n",
    "    return result\n",
    "\n",
    "list_values=[]  \n",
    "#Get input from user \n",
    "while True:\n",
    "    input_value = input(\"Enter the values for list or stop to exit: \" )\n",
    "    if (input_value == 'STOP' or input_value =='stop'):\n",
    "        break\n",
    "    list_values.append(int(input_value))\n",
    "    \n",
    "type(list_values)\n",
    "\n",
    "#call myfiter function\n",
    "final_result=myfilter('mod',list_values)\n",
    "#print output\n",
    "print(\"Filtered elements are : {} \".format(final_result))"
   ]
  },
  {
   "cell_type": "markdown",
   "metadata": {},
   "source": [
    "2. Implement List comprehensions to produce the following lists.\n",
    "Write List comprehensions to produce the following Lists\n",
    "<br>['A', 'C', 'A', 'D', 'G', 'I', ’L’, ‘ D’]</br>\n",
    "<br>['x', 'xx', 'xxx', 'xxxx', 'y', 'yy', 'yyy', 'yyyy', 'z', 'zz', 'zzz', 'zzzz']</br>\n",
    "<br>['x', 'y', 'z', 'xx', 'yy', 'zz', 'xx', 'yy', 'zz', 'xxxx', 'yyyy', 'zzzz']</br>\n",
    "<br>[[2], [3], [4], [3], [4], [5], [4], [5], [6]]</br>\n",
    "<br>[[2, 3, 4, 5], [3, 4, 5, 6], [4, 5, 6, 7], [5, 6, 7, 8]]</br>\n",
    "<br>[(1, 1), (2, 1), (3, 1), (1, 2), (2, 2), (3, 2), (1, 3), (2, 3), (3, 3)]</br>"
   ]
  },
  {
   "cell_type": "code",
   "execution_count": 6,
   "metadata": {},
   "outputs": [
    {
     "name": "stdout",
     "output_type": "stream",
     "text": [
      "['A', 'C', 'A', 'D', 'G', 'I', 'L', 'D']\n",
      "['x', 'xx', 'xxx', 'xxxx', 'y', 'yy', 'yyy', 'yyyy', 'z', 'zz', 'zzz', 'zzzz']\n",
      "[[2], [3], [4], [3], [4], [5], [4], [5], [6]]\n",
      "[[2, 3, 4, 5], [3, 4, 5, 6], [4, 5, 6, 7], [5, 6, 7, 8]]\n",
      "[(1, 1), (2, 1), (3, 1), (1, 2), (2, 2), (3, 2), (1, 3), (2, 3), (3, 3)]\n"
     ]
    }
   ],
   "source": [
    "#initialise String\n",
    "value='ACADGILDxyz12345678'\n",
    "out1=[x for x in value if x.isupper()]\n",
    "out2=[x*i for x in value for i in range(1,5) if x.islower()]\n",
    "out3=[[x+i] for x in range(1,4) for i in range(1,4)]\n",
    "out4=[[x+1,x+2,x+3,x+4] for x in range(1,5) ]\n",
    "out5=[(i,x) for x in range(1,4) for i in range(1,4)]\n",
    "#print outputs\n",
    "print(out1)\n",
    "print(out2)\n",
    "print(out3)\n",
    "print(out4)\n",
    "print(out5)\n"
   ]
  },
  {
   "cell_type": "markdown",
   "metadata": {},
   "source": [
    "3. Implement a function longestWord() that takes a list of words and returns the longest one."
   ]
  },
  {
   "cell_type": "code",
   "execution_count": 16,
   "metadata": {},
   "outputs": [
    {
     "name": "stdout",
     "output_type": "stream",
     "text": [
      "Enter the words for list or stop to exit: a\n",
      "Enter the words for list or stop to exit: bb\n",
      "Enter the words for list or stop to exit: cccc\n",
      "Enter the words for list or stop to exit: dddddd\n",
      "Enter the words for list or stop to exit: stop\n",
      "Longest word is : dddddd \n"
     ]
    }
   ],
   "source": [
    "#Define functin to find the longest word\n",
    "def longestWord(inplist):\n",
    "    longestword=\"\"\n",
    "    maxlength=0\n",
    "    for word in inplist:\n",
    "        if(len(word) > maxlength):\n",
    "            longestword = word\n",
    "            maxlength=len(word)\n",
    "    return longestword\n",
    "#initialise list\n",
    "list_values=[]\n",
    "while True:\n",
    "    input_value = input(\"Enter the words for list or stop to exit: \" )\n",
    "    if (input_value == 'STOP' or input_value =='stop'):\n",
    "        break\n",
    "    list_values.append(input_value)\n",
    "    \n",
    "\n",
    "#call longestWord function\n",
    "final_result=longestWord(list_values)\n",
    "#print output\n",
    "print(\"Longest word is : {} \".format(final_result))\n"
   ]
  },
  {
   "cell_type": "code",
   "execution_count": null,
   "metadata": {},
   "outputs": [],
   "source": []
  }
 ],
 "metadata": {
  "kernelspec": {
   "display_name": "Python 3",
   "language": "python",
   "name": "python3"
  },
  "language_info": {
   "codemirror_mode": {
    "name": "ipython",
    "version": 3
   },
   "file_extension": ".py",
   "mimetype": "text/x-python",
   "name": "python",
   "nbconvert_exporter": "python",
   "pygments_lexer": "ipython3",
   "version": "3.6.5"
  }
 },
 "nbformat": 4,
 "nbformat_minor": 2
}
